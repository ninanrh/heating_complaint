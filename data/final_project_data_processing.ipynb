{
 "cells": [
  {
   "cell_type": "code",
   "execution_count": 51,
   "metadata": {
    "collapsed": true
   },
   "outputs": [],
   "source": [
    "# Import libraries\n",
    "import os, sys\n",
    "import pandas as pd\n",
    "import datetime as dt\n",
    "\n",
    "# spatial libraries\n",
    "import geopandas as gpd\n",
    "from shapely.geometry import Point\n",
    "from shapely.geometry import Polygon\n",
    "from fiona.crs import from_epsg\n",
    "from geopandas import GeoDataFrame\n",
    "\n",
    "# NYC Open Data API\n",
    "from sodapy import Socrata\n",
    "\n",
    "# token\n",
    "from MyAppToken import key_token\n",
    "\n",
    "from functools import reduce"
   ]
  },
  {
   "cell_type": "markdown",
   "metadata": {},
   "source": [
    "# Data preparation\n",
    "## 311 Data"
   ]
  },
  {
   "cell_type": "code",
   "execution_count": 2,
   "metadata": {
    "collapsed": true
   },
   "outputs": [],
   "source": [
    "# import token, username and password for NYC Open Data API\n",
    "MyAppToken = key_token['token']\n",
    "username = key_token['username']\n",
    "password = key_token['password']"
   ]
  },
  {
   "cell_type": "code",
   "execution_count": 3,
   "metadata": {
    "collapsed": true
   },
   "outputs": [],
   "source": [
    "client = Socrata(\"data.cityofnewyork.us\",\n",
    "                 MyAppToken,\n",
    "                 username=username,\n",
    "                 password=password)"
   ]
  },
  {
   "cell_type": "code",
   "execution_count": 4,
   "metadata": {
    "collapsed": true
   },
   "outputs": [],
   "source": [
    "# SQL filter\n",
    "path311 = \"fhrw-4uyv\"\n",
    "select = 'unique_key,borough,incident_zip,complaint_type,created_date,latitude,longitude'\n",
    "where = \"(complaint_type='HEAT/HOT WATER' OR complaint_type='HEATING') AND (\\\n",
    "        (created_date > '2010-10-01' AND created_date < '2011-05-31') or (created_date > '2011-10-01' AND created_date < '2012-05-31') or \\\n",
    "        (created_date > '2012-10-01' AND created_date < '2013-05-31') or (created_date > '2013-10-01' AND created_date < '2014-05-31') or \\\n",
    "        (created_date > '2014-10-01' AND created_date < '2015-05-31') or (created_date > '2015-10-01' AND created_date < '2016-05-31') or \\\n",
    "        (created_date > '2016-10-01' AND created_date < '2017-05-31') or (created_date > '2017-10-01' AND created_date < '2018-05-31'))\"\n",
    "limit = 2000000"
   ]
  },
  {
   "cell_type": "code",
   "execution_count": 5,
   "metadata": {
    "collapsed": true
   },
   "outputs": [],
   "source": [
    "results = client.get(path311, select=select, where=where, limit=limit)"
   ]
  },
  {
   "cell_type": "code",
   "execution_count": 22,
   "metadata": {},
   "outputs": [
    {
     "data": {
      "text/plain": [
       "(1631064, 7)"
      ]
     },
     "execution_count": 22,
     "metadata": {},
     "output_type": "execute_result"
    }
   ],
   "source": [
    "df = pd.DataFrame.from_records(results)\n",
    "df.shape"
   ]
  },
  {
   "cell_type": "code",
   "execution_count": 23,
   "metadata": {},
   "outputs": [
    {
     "data": {
      "text/html": [
       "<div>\n",
       "<style scoped>\n",
       "    .dataframe tbody tr th:only-of-type {\n",
       "        vertical-align: middle;\n",
       "    }\n",
       "\n",
       "    .dataframe tbody tr th {\n",
       "        vertical-align: top;\n",
       "    }\n",
       "\n",
       "    .dataframe thead th {\n",
       "        text-align: right;\n",
       "    }\n",
       "</style>\n",
       "<table border=\"1\" class=\"dataframe\">\n",
       "  <thead>\n",
       "    <tr style=\"text-align: right;\">\n",
       "      <th></th>\n",
       "      <th>borough</th>\n",
       "      <th>complaint_type</th>\n",
       "      <th>created_date</th>\n",
       "      <th>incident_zip</th>\n",
       "      <th>latitude</th>\n",
       "      <th>longitude</th>\n",
       "      <th>unique_key</th>\n",
       "    </tr>\n",
       "  </thead>\n",
       "  <tbody>\n",
       "    <tr>\n",
       "      <th>0</th>\n",
       "      <td>BROOKLYN</td>\n",
       "      <td>HEAT/HOT WATER</td>\n",
       "      <td>2016-03-04 09:25:33</td>\n",
       "      <td>11230</td>\n",
       "      <td>40.62701275833746</td>\n",
       "      <td>-73.95662580149565</td>\n",
       "      <td>32837001</td>\n",
       "    </tr>\n",
       "    <tr>\n",
       "      <th>1</th>\n",
       "      <td>MANHATTAN</td>\n",
       "      <td>HEAT/HOT WATER</td>\n",
       "      <td>2016-03-04 10:15:16</td>\n",
       "      <td>10021</td>\n",
       "      <td>40.769015555148385</td>\n",
       "      <td>-73.96321938973729</td>\n",
       "      <td>32837006</td>\n",
       "    </tr>\n",
       "    <tr>\n",
       "      <th>2</th>\n",
       "      <td>BRONX</td>\n",
       "      <td>HEAT/HOT WATER</td>\n",
       "      <td>2016-03-04 07:43:24</td>\n",
       "      <td>10460</td>\n",
       "      <td>40.84971553715756</td>\n",
       "      <td>-73.88395060319702</td>\n",
       "      <td>32837007</td>\n",
       "    </tr>\n",
       "    <tr>\n",
       "      <th>3</th>\n",
       "      <td>BROOKLYN</td>\n",
       "      <td>HEAT/HOT WATER</td>\n",
       "      <td>2016-03-04 09:54:34</td>\n",
       "      <td>11214</td>\n",
       "      <td>40.59985292883077</td>\n",
       "      <td>-74.0031653164643</td>\n",
       "      <td>32837011</td>\n",
       "    </tr>\n",
       "    <tr>\n",
       "      <th>4</th>\n",
       "      <td>MANHATTAN</td>\n",
       "      <td>HEAT/HOT WATER</td>\n",
       "      <td>2016-03-05 17:25:48</td>\n",
       "      <td>10033</td>\n",
       "      <td>40.84687696137512</td>\n",
       "      <td>-73.93600316082807</td>\n",
       "      <td>32837012</td>\n",
       "    </tr>\n",
       "  </tbody>\n",
       "</table>\n",
       "</div>"
      ],
      "text/plain": [
       "     borough  complaint_type        created_date incident_zip  \\\n",
       "0   BROOKLYN  HEAT/HOT WATER 2016-03-04 09:25:33        11230   \n",
       "1  MANHATTAN  HEAT/HOT WATER 2016-03-04 10:15:16        10021   \n",
       "2      BRONX  HEAT/HOT WATER 2016-03-04 07:43:24        10460   \n",
       "3   BROOKLYN  HEAT/HOT WATER 2016-03-04 09:54:34        11214   \n",
       "4  MANHATTAN  HEAT/HOT WATER 2016-03-05 17:25:48        10033   \n",
       "\n",
       "             latitude           longitude unique_key  \n",
       "0   40.62701275833746  -73.95662580149565   32837001  \n",
       "1  40.769015555148385  -73.96321938973729   32837006  \n",
       "2   40.84971553715756  -73.88395060319702   32837007  \n",
       "3   40.59985292883077   -74.0031653164643   32837011  \n",
       "4   40.84687696137512  -73.93600316082807   32837012  "
      ]
     },
     "execution_count": 23,
     "metadata": {},
     "output_type": "execute_result"
    }
   ],
   "source": [
    "# change into datetime format\n",
    "df['created_date'] = pd.to_datetime(df['created_date'])\n",
    "df.head()"
   ]
  },
  {
   "cell_type": "code",
   "execution_count": 24,
   "metadata": {},
   "outputs": [
    {
     "data": {
      "text/plain": [
       "borough               0\n",
       "complaint_type        0\n",
       "created_date          0\n",
       "incident_zip      11987\n",
       "latitude          11983\n",
       "longitude         11983\n",
       "unique_key            0\n",
       "dtype: int64"
      ]
     },
     "execution_count": 24,
     "metadata": {},
     "output_type": "execute_result"
    }
   ],
   "source": [
    "# check NaNs\n",
    "df.isnull().sum()"
   ]
  },
  {
   "cell_type": "code",
   "execution_count": 25,
   "metadata": {},
   "outputs": [
    {
     "data": {
      "text/plain": [
       "(1619077, 7)"
      ]
     },
     "execution_count": 25,
     "metadata": {},
     "output_type": "execute_result"
    }
   ],
   "source": [
    "# drop NaNs\n",
    "df.dropna(inplace=True)\n",
    "df.shape"
   ]
  },
  {
   "cell_type": "code",
   "execution_count": 26,
   "metadata": {
    "collapsed": true
   },
   "outputs": [],
   "source": [
    "# eliminate all zip code outside NYC and change to integer\n",
    "df['incident_zip'] = df.incident_zip.astype(int)\n",
    "df = df[df['incident_zip'] < 12000 ]"
   ]
  },
  {
   "cell_type": "code",
   "execution_count": 28,
   "metadata": {
    "collapsed": true
   },
   "outputs": [],
   "source": [
    "# set datetime\n",
    "df['Year'] = df['created_date'].dt.strftime('%Y')\n",
    "df['YearMonth'] = df['created_date'].dt.strftime('%Y/%m')\n",
    "df['Month'] = df['created_date'].dt.strftime('%b')"
   ]
  },
  {
   "cell_type": "code",
   "execution_count": 45,
   "metadata": {
    "collapsed": true
   },
   "outputs": [],
   "source": [
    "# winter = {}\n",
    "# for year in list(range(2010,2018)):\n",
    "#     winter[year] = df[(df['created_date']>dt.date(year,10,1)) & (df['created_date']<dt.date(year+1,5,31))].groupby(['incident_zip']).size().reset_index()"
   ]
  },
  {
   "cell_type": "code",
   "execution_count": 139,
   "metadata": {
    "collapsed": true
   },
   "outputs": [],
   "source": [
    "# create new dataframe\n",
    "winter2017 = df[(df['created_date']>dt.date(2017,10,1)) & (df['created_date']<dt.date(2018,5,31))]\n",
    "winter2016 = df[(df['created_date']>dt.date(2016,10,1)) & (df['created_date']<dt.date(2017,5,31))]\n",
    "winter2015 = df[(df['created_date']>dt.date(2015,10,1)) & (df['created_date']<dt.date(2016,5,31))]\n",
    "winter2014 = df[(df['created_date']>dt.date(2014,10,1)) & (df['created_date']<dt.date(2015,5,31))] \n",
    "winter2013 = df[(df['created_date']>dt.date(2013,10,1)) & (df['created_date']<dt.date(2014,5,31))] \n",
    "winter2012 = df[(df['created_date']>dt.date(2012,10,1)) & (df['created_date']<dt.date(2013,5,31))] \n",
    "winter2011 = df[(df['created_date']>dt.date(2011,10,1)) & (df['created_date']<dt.date(2012,5,31))] \n",
    "winter2010 = df[(df['created_date']>dt.date(2010,10,1)) & (df['created_date']<dt.date(2011,5,31))] \n",
    "\n",
    "df17 = winter2017.groupby(['incident_zip', 'Month']).size().reset_index()\n",
    "df16 = winter2016.groupby(['incident_zip', 'Month']).size().reset_index()\n",
    "df15 = winter2015.groupby(['incident_zip', 'Month']).size().reset_index()\n",
    "df14 = winter2014.groupby(['incident_zip', 'Month']).size().reset_index()\n",
    "df13 = winter2013.groupby(['incident_zip', 'Month']).size().reset_index()\n",
    "df12 = winter2012.groupby(['incident_zip', 'Month']).size().reset_index()\n",
    "df11 = winter2011.groupby(['incident_zip', 'Month']).size().reset_index()\n",
    "df10 = winter2010.groupby(['incident_zip', 'Month']).size().reset_index()"
   ]
  },
  {
   "cell_type": "code",
   "execution_count": 86,
   "metadata": {},
   "outputs": [
    {
     "data": {
      "text/html": [
       "<div>\n",
       "<style scoped>\n",
       "    .dataframe tbody tr th:only-of-type {\n",
       "        vertical-align: middle;\n",
       "    }\n",
       "\n",
       "    .dataframe tbody tr th {\n",
       "        vertical-align: top;\n",
       "    }\n",
       "\n",
       "    .dataframe thead th {\n",
       "        text-align: right;\n",
       "    }\n",
       "</style>\n",
       "<table border=\"1\" class=\"dataframe\">\n",
       "  <thead>\n",
       "    <tr style=\"text-align: right;\">\n",
       "      <th></th>\n",
       "      <th>zipcode</th>\n",
       "      <th>2010</th>\n",
       "      <th>2011</th>\n",
       "      <th>2012</th>\n",
       "      <th>2013</th>\n",
       "      <th>2014</th>\n",
       "      <th>2015</th>\n",
       "      <th>2016</th>\n",
       "      <th>2017</th>\n",
       "    </tr>\n",
       "  </thead>\n",
       "  <tbody>\n",
       "    <tr>\n",
       "      <th>0</th>\n",
       "      <td>10001</td>\n",
       "      <td>605</td>\n",
       "      <td>420</td>\n",
       "      <td>287</td>\n",
       "      <td>294</td>\n",
       "      <td>516</td>\n",
       "      <td>455</td>\n",
       "      <td>366</td>\n",
       "      <td>339</td>\n",
       "    </tr>\n",
       "    <tr>\n",
       "      <th>1</th>\n",
       "      <td>10002</td>\n",
       "      <td>1369</td>\n",
       "      <td>1014</td>\n",
       "      <td>1353</td>\n",
       "      <td>1126</td>\n",
       "      <td>1439</td>\n",
       "      <td>1181</td>\n",
       "      <td>1488</td>\n",
       "      <td>1607</td>\n",
       "    </tr>\n",
       "    <tr>\n",
       "      <th>2</th>\n",
       "      <td>10003</td>\n",
       "      <td>964</td>\n",
       "      <td>840</td>\n",
       "      <td>1104</td>\n",
       "      <td>1031</td>\n",
       "      <td>1230</td>\n",
       "      <td>1249</td>\n",
       "      <td>1203</td>\n",
       "      <td>876</td>\n",
       "    </tr>\n",
       "    <tr>\n",
       "      <th>3</th>\n",
       "      <td>10004</td>\n",
       "      <td>15</td>\n",
       "      <td>22</td>\n",
       "      <td>47</td>\n",
       "      <td>12</td>\n",
       "      <td>5</td>\n",
       "      <td>6</td>\n",
       "      <td>10</td>\n",
       "      <td>2</td>\n",
       "    </tr>\n",
       "    <tr>\n",
       "      <th>4</th>\n",
       "      <td>10005</td>\n",
       "      <td>6</td>\n",
       "      <td>2</td>\n",
       "      <td>95</td>\n",
       "      <td>9</td>\n",
       "      <td>6</td>\n",
       "      <td>6</td>\n",
       "      <td>7</td>\n",
       "      <td>15</td>\n",
       "    </tr>\n",
       "  </tbody>\n",
       "</table>\n",
       "</div>"
      ],
      "text/plain": [
       "   zipcode  2010  2011  2012  2013  2014  2015  2016  2017\n",
       "0    10001   605   420   287   294   516   455   366   339\n",
       "1    10002  1369  1014  1353  1126  1439  1181  1488  1607\n",
       "2    10003   964   840  1104  1031  1230  1249  1203   876\n",
       "3    10004    15    22    47    12     5     6    10     2\n",
       "4    10005     6     2    95     9     6     6     7    15"
      ]
     },
     "execution_count": 86,
     "metadata": {},
     "output_type": "execute_result"
    }
   ],
   "source": [
    "# prepare data\n",
    "dfs = [df10, df11, df12, df13, df14, df15, df16, df17]\n",
    "for i,d in enumerate(dfs):\n",
    "    year = 2010\n",
    "    d.columns = ['zipcode', year+i]\n",
    "data = reduce(lambda left,right: pd.merge(left,right,on='zipcode'), dfs)\n",
    "data.head()"
   ]
  },
  {
   "cell_type": "code",
   "execution_count": 142,
   "metadata": {
    "collapsed": true
   },
   "outputs": [],
   "source": [
    "# prepare data\n",
    "dfs = [df10, df11, df12, df13, df14, df15, df16, df17]\n",
    "\n",
    "for i,d in enumerate(dfs):\n",
    "    year = 2010\n",
    "    d.columns = ['zipcode', 'month', 'heating_complaint']\n",
    "    d['year'] = year+i"
   ]
  },
  {
   "cell_type": "code",
   "execution_count": 143,
   "metadata": {},
   "outputs": [
    {
     "data": {
      "text/plain": [
       "(10875, 4)"
      ]
     },
     "execution_count": 143,
     "metadata": {},
     "output_type": "execute_result"
    }
   ],
   "source": [
    "data3 = pd.concat(dfs, ignore_index=True)\n",
    "data3.shape"
   ]
  },
  {
   "cell_type": "code",
   "execution_count": 144,
   "metadata": {},
   "outputs": [
    {
     "data": {
      "text/html": [
       "<div>\n",
       "<style scoped>\n",
       "    .dataframe tbody tr th:only-of-type {\n",
       "        vertical-align: middle;\n",
       "    }\n",
       "\n",
       "    .dataframe tbody tr th {\n",
       "        vertical-align: top;\n",
       "    }\n",
       "\n",
       "    .dataframe thead th {\n",
       "        text-align: right;\n",
       "    }\n",
       "</style>\n",
       "<table border=\"1\" class=\"dataframe\">\n",
       "  <thead>\n",
       "    <tr style=\"text-align: right;\">\n",
       "      <th></th>\n",
       "      <th>zipcode</th>\n",
       "      <th>month</th>\n",
       "      <th>heating_complaint</th>\n",
       "      <th>year</th>\n",
       "    </tr>\n",
       "  </thead>\n",
       "  <tbody>\n",
       "    <tr>\n",
       "      <th>0</th>\n",
       "      <td>10001</td>\n",
       "      <td>Apr</td>\n",
       "      <td>32</td>\n",
       "      <td>2010</td>\n",
       "    </tr>\n",
       "    <tr>\n",
       "      <th>1</th>\n",
       "      <td>10001</td>\n",
       "      <td>Dec</td>\n",
       "      <td>138</td>\n",
       "      <td>2010</td>\n",
       "    </tr>\n",
       "    <tr>\n",
       "      <th>2</th>\n",
       "      <td>10001</td>\n",
       "      <td>Feb</td>\n",
       "      <td>48</td>\n",
       "      <td>2010</td>\n",
       "    </tr>\n",
       "    <tr>\n",
       "      <th>3</th>\n",
       "      <td>10001</td>\n",
       "      <td>Jan</td>\n",
       "      <td>106</td>\n",
       "      <td>2010</td>\n",
       "    </tr>\n",
       "    <tr>\n",
       "      <th>4</th>\n",
       "      <td>10001</td>\n",
       "      <td>Mar</td>\n",
       "      <td>58</td>\n",
       "      <td>2010</td>\n",
       "    </tr>\n",
       "  </tbody>\n",
       "</table>\n",
       "</div>"
      ],
      "text/plain": [
       "   zipcode month  heating_complaint  year\n",
       "0    10001   Apr                 32  2010\n",
       "1    10001   Dec                138  2010\n",
       "2    10001   Feb                 48  2010\n",
       "3    10001   Jan                106  2010\n",
       "4    10001   Mar                 58  2010"
      ]
     },
     "execution_count": 144,
     "metadata": {},
     "output_type": "execute_result"
    }
   ],
   "source": [
    "data3.head()"
   ]
  },
  {
   "cell_type": "code",
   "execution_count": 157,
   "metadata": {},
   "outputs": [
    {
     "data": {
      "text/html": [
       "<div>\n",
       "<style scoped>\n",
       "    .dataframe tbody tr th:only-of-type {\n",
       "        vertical-align: middle;\n",
       "    }\n",
       "\n",
       "    .dataframe tbody tr th {\n",
       "        vertical-align: top;\n",
       "    }\n",
       "\n",
       "    .dataframe thead th {\n",
       "        text-align: right;\n",
       "    }\n",
       "</style>\n",
       "<table border=\"1\" class=\"dataframe\">\n",
       "  <thead>\n",
       "    <tr style=\"text-align: right;\">\n",
       "      <th></th>\n",
       "      <th>year</th>\n",
       "      <th>zipcode</th>\n",
       "      <th>heating_complaint</th>\n",
       "    </tr>\n",
       "  </thead>\n",
       "  <tbody>\n",
       "    <tr>\n",
       "      <th>0</th>\n",
       "      <td>2010</td>\n",
       "      <td>14650292</td>\n",
       "      <td>210104</td>\n",
       "    </tr>\n",
       "    <tr>\n",
       "      <th>1</th>\n",
       "      <td>2011</td>\n",
       "      <td>14444620</td>\n",
       "      <td>169414</td>\n",
       "    </tr>\n",
       "    <tr>\n",
       "      <th>2</th>\n",
       "      <td>2012</td>\n",
       "      <td>14804046</td>\n",
       "      <td>183298</td>\n",
       "    </tr>\n",
       "    <tr>\n",
       "      <th>3</th>\n",
       "      <td>2013</td>\n",
       "      <td>14831117</td>\n",
       "      <td>212432</td>\n",
       "    </tr>\n",
       "    <tr>\n",
       "      <th>4</th>\n",
       "      <td>2014</td>\n",
       "      <td>14762977</td>\n",
       "      <td>230488</td>\n",
       "    </tr>\n",
       "    <tr>\n",
       "      <th>5</th>\n",
       "      <td>2015</td>\n",
       "      <td>14783863</td>\n",
       "      <td>200242</td>\n",
       "    </tr>\n",
       "    <tr>\n",
       "      <th>6</th>\n",
       "      <td>2016</td>\n",
       "      <td>14965534</td>\n",
       "      <td>199412</td>\n",
       "    </tr>\n",
       "    <tr>\n",
       "      <th>7</th>\n",
       "      <td>2017</td>\n",
       "      <td>14475203</td>\n",
       "      <td>213687</td>\n",
       "    </tr>\n",
       "  </tbody>\n",
       "</table>\n",
       "</div>"
      ],
      "text/plain": [
       "   year   zipcode  heating_complaint\n",
       "0  2010  14650292             210104\n",
       "1  2011  14444620             169414\n",
       "2  2012  14804046             183298\n",
       "3  2013  14831117             212432\n",
       "4  2014  14762977             230488\n",
       "5  2015  14783863             200242\n",
       "6  2016  14965534             199412\n",
       "7  2017  14475203             213687"
      ]
     },
     "execution_count": 157,
     "metadata": {},
     "output_type": "execute_result"
    }
   ],
   "source": [
    "data3.groupby(['year']).sum().reset_index()"
   ]
  },
  {
   "cell_type": "code",
   "execution_count": 97,
   "metadata": {
    "collapsed": true
   },
   "outputs": [],
   "source": [
    "data3.to_csv('heating.csv')"
   ]
  },
  {
   "cell_type": "code",
   "execution_count": 64,
   "metadata": {
    "collapsed": true
   },
   "outputs": [],
   "source": [
    "data.set_index('zipcode', inplace=True)\n",
    "data.to_json('heating.json')"
   ]
  },
  {
   "cell_type": "code",
   "execution_count": 99,
   "metadata": {},
   "outputs": [
    {
     "data": {
      "text/plain": [
       "(263, 2)"
      ]
     },
     "execution_count": 99,
     "metadata": {},
     "output_type": "execute_result"
    }
   ],
   "source": [
    "# read geojson neighborhood data\n",
    "zipcode = \"nyc_zip.geojson\"\n",
    "zc = gpd.read_file(zipcode)\n",
    "zc.shape"
   ]
  },
  {
   "cell_type": "code",
   "execution_count": 100,
   "metadata": {},
   "outputs": [
    {
     "data": {
      "text/html": [
       "<div>\n",
       "<style scoped>\n",
       "    .dataframe tbody tr th:only-of-type {\n",
       "        vertical-align: middle;\n",
       "    }\n",
       "\n",
       "    .dataframe tbody tr th {\n",
       "        vertical-align: top;\n",
       "    }\n",
       "\n",
       "    .dataframe thead th {\n",
       "        text-align: right;\n",
       "    }\n",
       "</style>\n",
       "<table border=\"1\" class=\"dataframe\">\n",
       "  <thead>\n",
       "    <tr style=\"text-align: right;\">\n",
       "      <th></th>\n",
       "      <th>zipcode</th>\n",
       "      <th>geometry</th>\n",
       "    </tr>\n",
       "  </thead>\n",
       "  <tbody>\n",
       "    <tr>\n",
       "      <th>0</th>\n",
       "      <td>10471</td>\n",
       "      <td>(POLYGON ((-73.881919 40.906666, -73.878423 40...</td>\n",
       "    </tr>\n",
       "    <tr>\n",
       "      <th>1</th>\n",
       "      <td>10463</td>\n",
       "      <td>(POLYGON ((-73.920646 40.887237, -73.920376 40...</td>\n",
       "    </tr>\n",
       "    <tr>\n",
       "      <th>2</th>\n",
       "      <td>10475</td>\n",
       "      <td>(POLYGON ((-73.827224 40.89093, -73.825115 40....</td>\n",
       "    </tr>\n",
       "    <tr>\n",
       "      <th>3</th>\n",
       "      <td>10464</td>\n",
       "      <td>(POLYGON ((-73.815387 40.889394, -73.815265999...</td>\n",
       "    </tr>\n",
       "    <tr>\n",
       "      <th>4</th>\n",
       "      <td>11222</td>\n",
       "      <td>(POLYGON ((-73.954223 40.739107, -73.954183 40...</td>\n",
       "    </tr>\n",
       "  </tbody>\n",
       "</table>\n",
       "</div>"
      ],
      "text/plain": [
       "  zipcode                                           geometry\n",
       "0   10471  (POLYGON ((-73.881919 40.906666, -73.878423 40...\n",
       "1   10463  (POLYGON ((-73.920646 40.887237, -73.920376 40...\n",
       "2   10475  (POLYGON ((-73.827224 40.89093, -73.825115 40....\n",
       "3   10464  (POLYGON ((-73.815387 40.889394, -73.815265999...\n",
       "4   11222  (POLYGON ((-73.954223 40.739107, -73.954183 40..."
      ]
     },
     "execution_count": 100,
     "metadata": {},
     "output_type": "execute_result"
    }
   ],
   "source": [
    "zc.head()"
   ]
  },
  {
   "cell_type": "code",
   "execution_count": 120,
   "metadata": {
    "collapsed": true
   },
   "outputs": [],
   "source": [
    "zc['zipcode'] = zc['zipcode'].astype(int)"
   ]
  },
  {
   "cell_type": "code",
   "execution_count": 121,
   "metadata": {},
   "outputs": [
    {
     "data": {
      "text/plain": [
       "numpy.int64"
      ]
     },
     "execution_count": 121,
     "metadata": {},
     "output_type": "execute_result"
    }
   ],
   "source": [
    "type(zc['zipcode'][0])"
   ]
  },
  {
   "cell_type": "code",
   "execution_count": 128,
   "metadata": {},
   "outputs": [
    {
     "data": {
      "text/html": [
       "<div>\n",
       "<style scoped>\n",
       "    .dataframe tbody tr th:only-of-type {\n",
       "        vertical-align: middle;\n",
       "    }\n",
       "\n",
       "    .dataframe tbody tr th {\n",
       "        vertical-align: top;\n",
       "    }\n",
       "\n",
       "    .dataframe thead th {\n",
       "        text-align: right;\n",
       "    }\n",
       "</style>\n",
       "<table border=\"1\" class=\"dataframe\">\n",
       "  <thead>\n",
       "    <tr style=\"text-align: right;\">\n",
       "      <th></th>\n",
       "      <th>zipcode</th>\n",
       "      <th>geometry</th>\n",
       "      <th>heating_complaint</th>\n",
       "      <th>year</th>\n",
       "    </tr>\n",
       "  </thead>\n",
       "  <tbody>\n",
       "    <tr>\n",
       "      <th>0</th>\n",
       "      <td>10471</td>\n",
       "      <td>(POLYGON ((-73.881919 40.906666, -73.878423 40...</td>\n",
       "      <td>244</td>\n",
       "      <td>2010</td>\n",
       "    </tr>\n",
       "    <tr>\n",
       "      <th>1</th>\n",
       "      <td>10471</td>\n",
       "      <td>(POLYGON ((-73.881919 40.906666, -73.878423 40...</td>\n",
       "      <td>279</td>\n",
       "      <td>2011</td>\n",
       "    </tr>\n",
       "    <tr>\n",
       "      <th>2</th>\n",
       "      <td>10471</td>\n",
       "      <td>(POLYGON ((-73.881919 40.906666, -73.878423 40...</td>\n",
       "      <td>205</td>\n",
       "      <td>2012</td>\n",
       "    </tr>\n",
       "    <tr>\n",
       "      <th>3</th>\n",
       "      <td>10471</td>\n",
       "      <td>(POLYGON ((-73.881919 40.906666, -73.878423 40...</td>\n",
       "      <td>416</td>\n",
       "      <td>2013</td>\n",
       "    </tr>\n",
       "    <tr>\n",
       "      <th>4</th>\n",
       "      <td>10471</td>\n",
       "      <td>(POLYGON ((-73.881919 40.906666, -73.878423 40...</td>\n",
       "      <td>294</td>\n",
       "      <td>2014</td>\n",
       "    </tr>\n",
       "  </tbody>\n",
       "</table>\n",
       "</div>"
      ],
      "text/plain": [
       "   zipcode                                           geometry  \\\n",
       "0    10471  (POLYGON ((-73.881919 40.906666, -73.878423 40...   \n",
       "1    10471  (POLYGON ((-73.881919 40.906666, -73.878423 40...   \n",
       "2    10471  (POLYGON ((-73.881919 40.906666, -73.878423 40...   \n",
       "3    10471  (POLYGON ((-73.881919 40.906666, -73.878423 40...   \n",
       "4    10471  (POLYGON ((-73.881919 40.906666, -73.878423 40...   \n",
       "\n",
       "   heating_complaint  year  \n",
       "0                244  2010  \n",
       "1                279  2011  \n",
       "2                205  2012  \n",
       "3                416  2013  \n",
       "4                294  2014  "
      ]
     },
     "execution_count": 128,
     "metadata": {},
     "output_type": "execute_result"
    }
   ],
   "source": [
    "new = zc.merge(data3, on='zipcode')\n",
    "new.head()"
   ]
  },
  {
   "cell_type": "code",
   "execution_count": 134,
   "metadata": {
    "collapsed": true
   },
   "outputs": [],
   "source": [
    "new.to_file('heat_complaints.geojson', driver=\"GeoJSON\")"
   ]
  },
  {
   "cell_type": "code",
   "execution_count": null,
   "metadata": {
    "collapsed": true
   },
   "outputs": [],
   "source": []
  }
 ],
 "metadata": {
  "kernelspec": {
   "display_name": "Python 2",
   "language": "python",
   "name": "python2"
  },
  "language_info": {
   "codemirror_mode": {
    "name": "ipython",
    "version": 2
   },
   "file_extension": ".py",
   "mimetype": "text/x-python",
   "name": "python",
   "nbconvert_exporter": "python",
   "pygments_lexer": "ipython2",
   "version": "2.7.14"
  }
 },
 "nbformat": 4,
 "nbformat_minor": 2
}
